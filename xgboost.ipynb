{
 "cells": [
  {
   "cell_type": "code",
   "execution_count": 54,
   "metadata": {},
   "outputs": [],
   "source": [
    "from sklearn.datasets import load_iris\n",
    "from sklearn.model_selection import train_test_split\n",
    "import xgboost as xgb\n",
    "from xgboost import plot_importance\n",
    "from matplotlib import pyplot as plt\n"
   ]
  },
  {
   "cell_type": "code",
   "execution_count": 55,
   "metadata": {},
   "outputs": [
    {
     "name": "stdout",
     "output_type": "stream",
     "text": [
      "<class 'numpy.ndarray'>\n",
      "<class 'numpy.ndarray'>\n"
     ]
    }
   ],
   "source": [
    "# read in the iris data\n",
    "iris = load_iris()\n",
    "X = iris.data\n",
    "y = iris.target\n",
    "print(type(X))\n",
    "print(type(y))"
   ]
  },
  {
   "cell_type": "code",
   "execution_count": 56,
   "metadata": {},
   "outputs": [],
   "source": [
    "X_train, X_test, y_train, y_test = train_test_split(X, y, test_size=0.2, random_state=1234565)"
   ]
  },
  {
   "cell_type": "code",
   "execution_count": 57,
   "metadata": {},
   "outputs": [
    {
     "name": "stdout",
     "output_type": "stream",
     "text": [
      "[[4.8 3.  1.4 0.3]\n",
      " [6.3 3.3 6.  2.5]\n",
      " [4.6 3.2 1.4 0.2]\n",
      " [4.6 3.6 1.  0.2]\n",
      " [6.3 3.4 5.6 2.4]\n",
      " [6.5 3.  5.2 2. ]\n",
      " [7.2 3.2 6.  1.8]\n",
      " [5.  3.4 1.5 0.2]\n",
      " [7.6 3.  6.6 2.1]\n",
      " [6.2 3.4 5.4 2.3]\n",
      " [5.5 2.4 3.7 1. ]\n",
      " [6.4 2.8 5.6 2.1]\n",
      " [5.5 2.6 4.4 1.2]\n",
      " [7.7 2.6 6.9 2.3]\n",
      " [5.  2.3 3.3 1. ]\n",
      " [4.4 3.2 1.3 0.2]\n",
      " [6.3 2.7 4.9 1.8]\n",
      " [6.  3.4 4.5 1.6]\n",
      " [5.7 2.8 4.5 1.3]\n",
      " [5.7 3.  4.2 1.2]\n",
      " [5.1 2.5 3.  1.1]\n",
      " [5.4 3.4 1.5 0.4]\n",
      " [5.8 4.  1.2 0.2]\n",
      " [5.7 3.8 1.7 0.3]\n",
      " [6.5 3.  5.8 2.2]\n",
      " [6.9 3.1 5.1 2.3]\n",
      " [6.7 3.3 5.7 2.1]\n",
      " [6.8 3.2 5.9 2.3]\n",
      " [6.9 3.2 5.7 2.3]\n",
      " [6.3 3.3 4.7 1.6]\n",
      " [6.5 2.8 4.6 1.5]\n",
      " [4.9 3.  1.4 0.2]\n",
      " [5.8 2.7 5.1 1.9]\n",
      " [6.5 3.  5.5 1.8]\n",
      " [6.2 2.9 4.3 1.3]\n",
      " [5.7 2.6 3.5 1. ]\n",
      " [7.9 3.8 6.4 2. ]\n",
      " [5.8 2.7 4.1 1. ]\n",
      " [5.  3.4 1.6 0.4]\n",
      " [5.  3.2 1.2 0.2]\n",
      " [5.1 3.4 1.5 0.2]\n",
      " [7.3 2.9 6.3 1.8]\n",
      " [5.2 3.5 1.5 0.2]\n",
      " [6.2 2.2 4.5 1.5]\n",
      " [6.7 3.  5.  1.7]\n",
      " [5.4 3.7 1.5 0.2]\n",
      " [6.2 2.8 4.8 1.8]\n",
      " [5.5 2.4 3.8 1.1]\n",
      " [6.7 3.1 4.7 1.5]\n",
      " [5.5 3.5 1.3 0.2]\n",
      " [6.6 2.9 4.6 1.3]\n",
      " [6.1 2.8 4.  1.3]\n",
      " [6.1 2.8 4.7 1.2]\n",
      " [6.1 3.  4.9 1.8]\n",
      " [6.8 3.  5.5 2.1]\n",
      " [5.8 2.7 3.9 1.2]\n",
      " [5.1 3.7 1.5 0.4]\n",
      " [6.1 2.6 5.6 1.4]\n",
      " [6.9 3.1 4.9 1.5]\n",
      " [5.3 3.7 1.5 0.2]\n",
      " [6.1 2.9 4.7 1.4]\n",
      " [5.9 3.2 4.8 1.8]\n",
      " [6.9 3.1 5.4 2.1]\n",
      " [4.4 3.  1.3 0.2]\n",
      " [4.9 3.1 1.5 0.1]\n",
      " [5.6 2.7 4.2 1.3]\n",
      " [6.5 3.2 5.1 2. ]\n",
      " [6.3 2.9 5.6 1.8]\n",
      " [4.9 2.4 3.3 1. ]\n",
      " [5.9 3.  4.2 1.5]\n",
      " [6.3 2.3 4.4 1.3]\n",
      " [7.1 3.  5.9 2.1]\n",
      " [4.8 3.1 1.6 0.2]\n",
      " [4.4 2.9 1.4 0.2]\n",
      " [7.  3.2 4.7 1.4]\n",
      " [6.4 3.2 4.5 1.5]\n",
      " [5.2 4.1 1.5 0.1]\n",
      " [7.2 3.6 6.1 2.5]\n",
      " [4.8 3.4 1.6 0.2]\n",
      " [5.6 3.  4.5 1.5]\n",
      " [5.  3.6 1.4 0.2]\n",
      " [6.3 2.5 4.9 1.5]\n",
      " [5.6 2.9 3.6 1.3]\n",
      " [4.7 3.2 1.3 0.2]\n",
      " [5.4 3.9 1.7 0.4]\n",
      " [4.8 3.  1.4 0.1]\n",
      " [5.5 2.5 4.  1.3]\n",
      " [4.6 3.1 1.5 0.2]\n",
      " [6.  2.2 5.  1.5]\n",
      " [5.5 4.2 1.4 0.2]\n",
      " [5.6 2.8 4.9 2. ]\n",
      " [5.5 2.3 4.  1.3]\n",
      " [7.2 3.  5.8 1.6]\n",
      " [6.7 3.  5.2 2.3]\n",
      " [6.4 2.7 5.3 1.9]\n",
      " [6.8 2.8 4.8 1.4]\n",
      " [5.8 2.8 5.1 2.4]\n",
      " [6.7 3.3 5.7 2.5]\n",
      " [6.  3.  4.8 1.8]\n",
      " [7.7 3.  6.1 2.3]\n",
      " [5.4 3.9 1.3 0.4]\n",
      " [6.7 2.5 5.8 1.8]\n",
      " [5.7 2.5 5.  2. ]\n",
      " [4.6 3.4 1.4 0.3]\n",
      " [5.7 2.9 4.2 1.3]\n",
      " [5.4 3.  4.5 1.5]\n",
      " [6.4 3.2 5.3 2.3]\n",
      " [4.3 3.  1.1 0.1]\n",
      " [5.1 3.8 1.9 0.4]\n",
      " [6.3 2.8 5.1 1.5]\n",
      " [6.  2.7 5.1 1.6]\n",
      " [5.  2.  3.5 1. ]\n",
      " [7.4 2.8 6.1 1.9]\n",
      " [4.5 2.3 1.3 0.3]\n",
      " [6.1 3.  4.6 1.4]\n",
      " [4.9 3.1 1.5 0.1]\n",
      " [6.7 3.1 4.4 1.4]\n",
      " [5.7 2.8 4.1 1.3]\n",
      " [6.4 2.8 5.6 2.2]\n",
      " [6.  2.2 4.  1. ]] [0 2 0 0 2 2 2 0 2 2 1 2 1 2 1 0 2 1 1 1 1 0 0 0 2 2 2 2 2 1 1 0 2 2 1 1 2\n",
      " 1 0 0 0 2 0 1 1 0 2 1 1 0 1 1 1 2 2 1 0 2 1 0 1 1 2 0 0 1 2 2 1 1 1 2 0 0\n",
      " 1 1 0 2 0 1 0 1 1 0 0 0 1 0 2 0 2 1 2 2 2 1 2 2 2 2 0 2 2 0 1 1 2 0 0 2 1\n",
      " 1 2 0 1 0 1 1 2 1]\n"
     ]
    }
   ],
   "source": [
    "print(X_train, y_train)"
   ]
  },
  {
   "cell_type": "code",
   "execution_count": 63,
   "metadata": {},
   "outputs": [],
   "source": [
    "params={    \n",
    "    'booster':'gbtree',\n",
    "    'objective': 'reg:gamma',\n",
    "#     'num_class': 3,\n",
    "    'gamma': 0.1,\n",
    "    'max_depth': 6,\n",
    "    'lambda': 2,\n",
    "    'subsample': 0.7,\n",
    "    'colsample_bytree': 0.7,\n",
    "    'min_child_weight': 3,\n",
    "    'silent': 1,\n",
    "    'eta': 0.1,\n",
    "    'seed': 1000,\n",
    "    'nthread': 4,\n",
    "    }"
   ]
  },
  {
   "cell_type": "code",
   "execution_count": 64,
   "metadata": {},
   "outputs": [],
   "source": [
    "plst = params.items()\n"
   ]
  },
  {
   "cell_type": "code",
   "execution_count": 65,
   "metadata": {},
   "outputs": [
    {
     "name": "stdout",
     "output_type": "stream",
     "text": [
      "{'booster': 'gbtree', 'objective': 'reg:gamma', 'gamma': 0.1, 'max_depth': 6, 'lambda': 2, 'subsample': 0.7, 'colsample_bytree': 0.7, 'min_child_weight': 3, 'silent': 1, 'eta': 0.1, 'seed': 1000, 'nthread': 4}\n",
      "dict_items([('booster', 'gbtree'), ('objective', 'reg:gamma'), ('gamma', 0.1), ('max_depth', 6), ('lambda', 2), ('subsample', 0.7), ('colsample_bytree', 0.7), ('min_child_weight', 3), ('silent', 1), ('eta', 0.1), ('seed', 1000), ('nthread', 4)])\n"
     ]
    }
   ],
   "source": [
    "print(params)\n",
    "print(plst)\n"
   ]
  },
  {
   "cell_type": "code",
   "execution_count": 68,
   "metadata": {},
   "outputs": [
    {
     "name": "stdout",
     "output_type": "stream",
     "text": [
      "[7.2423029e-36 3.1778073e+02 2.7606616e-34 9.4054712e+02 7.2745955e-34\n",
      " 1.0076628e-02 8.2172041e+00 1.1210169e-35 5.2897322e-01 4.2869204e-01\n",
      " 5.8551093e-38 2.3358977e+00 4.4504009e-34 3.1854602e-36 4.1296945e+02\n",
      " 1.2326731e-33 1.0899130e+04 3.1854602e-36 3.1854602e-36 8.4187910e-38\n",
      " 4.4577185e+02 5.3107486e+00 3.1854602e-36 2.7181752e-32 7.2423029e-36\n",
      " 3.5252169e-02 2.0812883e+00 5.8603679e-28 1.5720452e+00 2.1525128e+00]\n"
     ]
    }
   ],
   "source": [
    "\n",
    "dtrain = xgb.DMatrix(X_train, y_train)\n",
    "\n",
    "\n",
    "num_rounds = 500\n",
    "#这里直接使用 params取代 plst也可以\n",
    "model = xgb.train(plst, dtrain, num_rounds)\n",
    "\n",
    "\n",
    "\n",
    "dtest = xgb.DMatrix(X_test)\n",
    "ans = model.predict(dtest)\n",
    "print(ans)\n",
    "\n"
   ]
  },
  {
   "cell_type": "code",
   "execution_count": 67,
   "metadata": {},
   "outputs": [
    {
     "name": "stdout",
     "output_type": "stream",
     "text": [
      "Accuracy: 0.0000 % \n"
     ]
    },
    {
     "data": {
      "image/png": "[encoded data removed]",
      "text/plain": [
       "<Figure size 432x288 with 1 Axes>"
      ]
     },
     "metadata": {
      "needs_background": "light"
     },
     "output_type": "display_data"
    }
   ],
   "source": [
    "# 计算准确率\n",
    "cnt1 = 0\n",
    "cnt2 = 0\n",
    "for i in range(len(y_test)):\n",
    "    if ans[i] == y_test[i]:\n",
    "        cnt1 += 1\n",
    "    else:\n",
    "        cnt2 += 1\n",
    "print(\"Accuracy: %.4f %% \" % (100 * cnt1 / (cnt1 + cnt2)))\n",
    "\n",
    "# 显示重要特征\n",
    "plot_importance(model)\n",
    "plt.show()"
   ]
  },
  {
   "cell_type": "code",
   "execution_count": 27,
   "metadata": {},
   "outputs": [
    {
     "data": {
      "image/png": "[encoded data removed]",
      "text/plain": [
       "<Figure size 432x288 with 1 Axes>"
      ]
     },
     "metadata": {
      "needs_background": "light"
     },
     "output_type": "display_data"
    }
   ],
   "source": []
  },
  {
   "cell_type": "code",
   "execution_count": null,
   "metadata": {},
   "outputs": [],
   "source": []
  }
 ],
 "metadata": {
  "kernelspec": {
   "display_name": "Python 3",
   "language": "python",
   "name": "python3"
  },
  "language_info": {
   "codemirror_mode": {
    "name": "ipython",
    "version": 3
   },
   "file_extension": ".py",
   "mimetype": "text/x-python",
   "name": "python",
   "nbconvert_exporter": "python",
   "pygments_lexer": "ipython3",
   "version": "3.7.4"
  }
 },
 "nbformat": 4,
 "nbformat_minor": 2
}
